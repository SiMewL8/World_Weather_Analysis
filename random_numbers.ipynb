{
 "cells": [
  {
   "cell_type": "code",
   "execution_count": 2,
   "metadata": {},
   "outputs": [],
   "source": [
    "import random as rng"
   ]
  },
  {
   "cell_type": "code",
   "execution_count": 20,
   "metadata": {},
   "outputs": [
    {
     "data": {
      "text/plain": [
       "-76"
      ]
     },
     "execution_count": 20,
     "metadata": {},
     "output_type": "execute_result"
    }
   ],
   "source": [
    "rng.randint(-90,90)\n",
    "# pp"
   ]
  },
  {
   "cell_type": "code",
   "execution_count": 21,
   "metadata": {},
   "outputs": [
    {
     "data": {
      "text/plain": [
       "0.7017169590510565"
      ]
     },
     "execution_count": 21,
     "metadata": {},
     "output_type": "execute_result"
    }
   ],
   "source": [
    "rng.random()"
   ]
  },
  {
   "cell_type": "code",
   "execution_count": 24,
   "metadata": {},
   "outputs": [
    {
     "data": {
      "text/plain": [
       "-33.99083667295664"
      ]
     },
     "execution_count": 24,
     "metadata": {},
     "output_type": "execute_result"
    }
   ],
   "source": [
    "rng_number = rng.randint(-90,89) + rng.random()\n",
    "rng_number"
   ]
  },
  {
   "cell_type": "code",
   "execution_count": 32,
   "metadata": {},
   "outputs": [
    {
     "data": {
      "text/plain": [
       "[69.0073883795028,\n",
       " 43.127870848761965,\n",
       " -29.43461006710962,\n",
       " 46.07306627133701,\n",
       " -88.48682239222427,\n",
       " -19.151025942141704,\n",
       " 70.56022394975689,\n",
       " -77.21155115059595,\n",
       " -15.092075462255435,\n",
       " -7.037990943719477,\n",
       " -84.77803045557079,\n",
       " 59.757028452009536,\n",
       " 55.993797863976106]"
      ]
     },
     "execution_count": 32,
     "metadata": {},
     "output_type": "execute_result"
    }
   ],
   "source": [
    "# algorithm\n",
    "\n",
    "p = 1\n",
    "\n",
    "lats = []\n",
    "\n",
    "while p < 14:\n",
    "    rng_lat = rng.randint(-90, 89) + rng.random()\n",
    "    lats.append(rng_lat)\n",
    "    p = p + 1\n",
    "\n",
    "lats\n",
    "\n"
   ]
  },
  {
   "cell_type": "code",
   "execution_count": 243,
   "metadata": {},
   "outputs": [
    {
     "data": {
      "text/plain": [
       "1"
      ]
     },
     "execution_count": 243,
     "metadata": {},
     "output_type": "execute_result"
    }
   ],
   "source": [
    "# step is spacing the numbers out by that int provided\n",
    "\n",
    "rng.randrange(0, 16, step = 2)\n",
    "# only outputs even numbers!\n",
    "\n",
    "rng.randrange(1, 16, step=2)\n",
    "# odds only!\n",
    "\n",
    "\n",
    "rng.uniform(-90, 90)\n",
    "# does float values between the range given\n",
    "\n"
   ]
  },
  {
   "cell_type": "code",
   "execution_count": 245,
   "metadata": {},
   "outputs": [],
   "source": [
    "# NumPy module is a numerical mathematics library that can be used to make arrays or matrices of numbers\n",
    "import numpy as np"
   ]
  },
  {
   "cell_type": "code",
   "execution_count": 250,
   "metadata": {},
   "outputs": [
    {
     "data": {
      "text/plain": [
       "5.666644074739807"
      ]
     },
     "execution_count": 250,
     "metadata": {},
     "output_type": "execute_result"
    }
   ],
   "source": [
    "np.random.uniform(-90.000, 90.000)\n",
    "\n",
    "# same thing\n",
    "np.random.uniform(low=-90, high=90)"
   ]
  },
  {
   "cell_type": "code",
   "execution_count": 251,
   "metadata": {},
   "outputs": [
    {
     "data": {
      "text/plain": [
       "array([-39.67768555, -85.02826888,   1.58713258, -45.67289461,\n",
       "        80.84450482, -50.83058801,   7.95654761,  -4.92759557,\n",
       "        86.4758356 , -27.59796581,  28.99464362,  50.72370536,\n",
       "       -22.40266225, -55.42376003,  51.24290221, -73.67979532,\n",
       "       -86.68334237,  -4.85478371,   3.81145925, -30.37322974,\n",
       "       -63.6387325 ,  35.75386671, -60.59621819,  75.95871696,\n",
       "        17.49498865, -38.17243969,  79.49824487, -53.12427358,\n",
       "         2.23173596,  37.14920648, -83.95847969, -35.34513217,\n",
       "       -65.69366406,  67.90134265,   8.5685723 ,  50.92756384,\n",
       "       -47.75159389, -74.79502524,  60.98699751,  -4.77647749,\n",
       "        75.89664937,  49.02951333, -75.18238085,  54.55164147,\n",
       "        44.85070982,  23.37831873, -66.26506694,   3.28201277,\n",
       "        -0.81995952,  31.32043632])"
      ]
     },
     "execution_count": 251,
     "metadata": {},
     "output_type": "execute_result"
    }
   ],
   "source": [
    "np.random.uniform(-90.000, 90.000, size = 50)"
   ]
  },
  {
   "cell_type": "code",
   "execution_count": 252,
   "metadata": {},
   "outputs": [],
   "source": [
    "#  test how long a piece of code or function takes to run\n",
    "import timeit"
   ]
  },
  {
   "cell_type": "code",
   "execution_count": 253,
   "metadata": {},
   "outputs": [
    {
     "name": "stdout",
     "output_type": "stream",
     "text": [
      "2.91 µs ± 24.1 ns per loop (mean ± std. dev. of 7 runs, 100000 loops each)\n"
     ]
    }
   ],
   "source": [
    "%timeit np.random.uniform(-90.000,90.000, size = 50)"
   ]
  },
  {
   "cell_type": "code",
   "execution_count": 254,
   "metadata": {},
   "outputs": [
    {
     "name": "stdout",
     "output_type": "stream",
     "text": [
      "1.6 ms ± 48.1 µs per loop (mean ± std. dev. of 7 runs, 1000 loops each)\n"
     ]
    }
   ],
   "source": [
    "def latitudes(size):\n",
    "    latitudes = []\n",
    "    x = 0\n",
    "    while x < (size):\n",
    "        random_lat = rng.randint(-90, 90) + rng.random()\n",
    "        latitudes.append(random_lat)\n",
    "        x += 1\n",
    "    return latitudes\n",
    "# Call the function with 1500. \n",
    "%timeit latitudes(1500)"
   ]
  },
  {
   "cell_type": "code",
   "execution_count": null,
   "metadata": {},
   "outputs": [],
   "source": []
  }
 ],
 "metadata": {
  "kernelspec": {
   "display_name": "Python 3",
   "language": "python",
   "name": "python3"
  },
  "language_info": {
   "codemirror_mode": {
    "name": "ipython",
    "version": 3
   },
   "file_extension": ".py",
   "mimetype": "text/x-python",
   "name": "python",
   "nbconvert_exporter": "python",
   "pygments_lexer": "ipython3",
   "version": "3.7.6"
  }
 },
 "nbformat": 4,
 "nbformat_minor": 4
}
