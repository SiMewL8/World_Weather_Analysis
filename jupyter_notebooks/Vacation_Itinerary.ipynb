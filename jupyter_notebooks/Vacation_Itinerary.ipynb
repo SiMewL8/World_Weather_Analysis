{
 "cells": [
  {
   "cell_type": "code",
   "execution_count": 1,
   "metadata": {},
   "outputs": [],
   "source": [
    "# 1. Dependacies\n",
    "\n",
    "import numpy as np\n",
    "import random\n",
    "import requests\n",
    "import pandas as pd\n",
    "from citipy import citipy\n",
    "import matplotlib.pyplot as plt\n",
    "import os\n",
    "import gmaps\n",
    "from config import g_key\n",
    "from config import weather_api_key\n",
    "from datetime import datetime\n"
   ]
  },
  {
   "cell_type": "code",
   "execution_count": 2,
   "metadata": {},
   "outputs": [],
   "source": [
    "# Reloading the config since adding new keys\n",
    "\n",
    "import importlib\n",
    "import config\n",
    "\n",
    "importlib.reload(config)\n",
    "\n",
    "from config import challenge_weather_key\n",
    "\n",
    "from config import g_key2"
   ]
  },
  {
   "cell_type": "code",
   "execution_count": null,
   "metadata": {},
   "outputs": [],
   "source": []
  }
 ],
 "metadata": {
  "kernelspec": {
   "display_name": "Python 3",
   "language": "python",
   "name": "python3"
  },
  "language_info": {
   "codemirror_mode": {
    "name": "ipython",
    "version": 3
   },
   "file_extension": ".py",
   "mimetype": "text/x-python",
   "name": "python",
   "nbconvert_exporter": "python",
   "pygments_lexer": "ipython3",
   "version": "3.7.6"
  }
 },
 "nbformat": 4,
 "nbformat_minor": 4
}
