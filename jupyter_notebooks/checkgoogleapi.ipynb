{
 "cells": [
  {
   "cell_type": "code",
   "execution_count": 20,
   "metadata": {},
   "outputs": [],
   "source": [
    "# import requests\n",
    "# import gmaps\n",
    "\n",
    "# from config import g_key"
   ]
  },
  {
   "cell_type": "code",
   "execution_count": 21,
   "metadata": {},
   "outputs": [],
   "source": [
    "# # print(f\"https://maps.googleapis.com/maps/api/place/nearbysearch/json?location=-33.8670522,151.1957362&radius=1500&type=restaurant&keyword=cruise&key={g_key}\")\n",
    "\n",
    "# base_url =\"https://maps.googleapis.com/maps/api/place/nearbysearch/json\"\n",
    "\n",
    "# coords = \"-33.8670522,151.1957362\"\n",
    "\n",
    "# radius = \"1500\"\n",
    "\n",
    "# type_test = \"restaurant\"\n",
    "\n",
    "# keyword_test = \"cruise\"\n",
    "\n",
    "\n",
    "# test_url = f\"{base_url}?location={coords}&radius={radius}&type={type_test}&keyword={keyword_test}&key={g_key}\"\n",
    "\n",
    "# # print(test_url)\n",
    "\n",
    "# hotel_test = requests.get(test_url).json()\n",
    "\n",
    "# hotel_test"
   ]
  },
  {
   "cell_type": "code",
   "execution_count": 22,
   "metadata": {},
   "outputs": [],
   "source": [
    "# # using lodging as a replacement for a hotel\n",
    "\n",
    "# # setting parameters to match the google api reply and retrieve data\n",
    "\n",
    "# params = {\n",
    "#     \"radius\": 5000,\n",
    "#     \"type\" : \"lodging\",\n",
    "#     \"ket\" : g_key\n",
    "# }\n",
    "\n",
    "# # Iterate through the df\n",
    "# for index, row in hotel_df.iterrows():\n",
    "\n",
    "#     #     getting lat and lng from df\n",
    "#     lat = row[\"Lat\"]\n",
    "#     lng = row[\"Lng\"]\n",
    "    \n",
    "#     # Add the latitude and longitude to location key for the params dictionary\n",
    "#     params[\"locations\"]= f\"{lat},{lng}\"\n",
    "    \n",
    "#     # Use the search term: \"lodging\" and our latitude and longitude\n",
    "#     base_url = \"https://maps.googleapis.com/maps/api/place/nearbysearch/json\"\n",
    "    \n",
    "#     # make request and get jsons from search query\n",
    "#     hotels = requests.get(base_url, params=params).json()\n",
    "    \n",
    "#     # Grab the first hotel from the results and store the name\n",
    "#     try:\n",
    "#         hotel_df.loc[index, \"Hotel Name\"] = hotels[\"results\"][0][\"name\"]\n",
    "#     except:\n",
    "#         print(\"Hotel not found...\")\n",
    "\n"
   ]
  },
  {
   "cell_type": "code",
   "execution_count": null,
   "metadata": {},
   "outputs": [],
   "source": []
  }
 ],
 "metadata": {
  "kernelspec": {
   "display_name": "Python 3",
   "language": "python",
   "name": "python3"
  },
  "language_info": {
   "codemirror_mode": {
    "name": "ipython",
    "version": 3
   },
   "file_extension": ".py",
   "mimetype": "text/x-python",
   "name": "python",
   "nbconvert_exporter": "python",
   "pygments_lexer": "ipython3",
   "version": "3.7.6"
  }
 },
 "nbformat": 4,
 "nbformat_minor": 4
}
